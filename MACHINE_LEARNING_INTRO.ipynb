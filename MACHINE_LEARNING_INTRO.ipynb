{
  "nbformat": 4,
  "nbformat_minor": 0,
  "metadata": {
    "colab": {
      "provenance": []
    },
    "kernelspec": {
      "name": "python3",
      "display_name": "Python 3"
    },
    "language_info": {
      "name": "python"
    }
  },
  "cells": [
    {
      "cell_type": "markdown",
      "source": [
        "***MACHINE LEARNING INTRO***"
      ],
      "metadata": {
        "id": "r2e6sMq7vujo"
      }
    },
    {
      "cell_type": "markdown",
      "source": [
        " 1: Explain the differences between AI, ML, Deep Learning (DL), and Data\n",
        "Science (DS).\n",
        "ANS-1. Artificial Intelligence (AI)\n",
        "\n",
        "Definition:\n",
        " The broadest field – creating machines that can simulate human intelligence (thinking, reasoning, decision-making, problem-solving).\n",
        "\n",
        "Scope:\n",
        "Encompasses all techniques to make computers “smart,” from rule-based systems to learning algorithms.\n",
        "\n",
        "Example:\n",
        " A chatbot that answers questions, a self-driving car’s decision-making system.\n",
        "\n",
        "2. Machine Learning (ML)\n",
        "\n",
        "Definition:\n",
        " A subset of AI that allows systems to learn patterns from data and improve over time without being explicitly programmed.\n",
        "\n",
        "Scope:\n",
        " Focuses on algorithms like regression, decision trees, clustering, etc.\n",
        "\n",
        "Example:\n",
        " A spam email filter that improves as it sees more emails.\n",
        "\n",
        "3. Deep Learning (DL)\n",
        "\n",
        "Definition:\n",
        " A subset of ML that uses neural networks with many layers (deep neural networks) to automatically learn complex patterns and representations.\n",
        "\n",
        "Scope:\n",
        " Especially powerful for unstructured data like images, audio, and text.\n",
        "\n",
        "Example:\n",
        " Face recognition on your phone, speech-to-text systems, ChatGPT.\n",
        "\n",
        "4. Data Science (DS)\n",
        "\n",
        "Definition:\n",
        " A broader field that uses data analysis, statistics, ML, and visualization to extract insights and knowledge from data.\n",
        "\n",
        "Scope:\n",
        " Includes data cleaning, exploration, visualization, predictive modeling, and communicating results for decision-making.\n",
        "\n",
        "Example:\n",
        "A data scientist analyzing customer purchase behavior to recommend new products."
      ],
      "metadata": {
        "id": "8yWSniEvv6_o"
      }
    },
    {
      "cell_type": "markdown",
      "source": [
        " 2: What are the types of machine learning? Describe each with one\n",
        "real-world example.\n",
        "ANS-1. Supervised Learning\n",
        "\n",
        "Definition: The model is trained on a labeled dataset (input + correct output already known).\n",
        "\n",
        "\n",
        "Example:\n",
        "\n",
        "Email Spam Detection – Emails labeled as spam or not spam are given to the model, which then learns to classify new emails.\n",
        "\n",
        "2. Unsupervised Learning\n",
        "\n",
        "Definition: The model is trained on unlabeled data (no predefined output).\n",
        "\n",
        "\n",
        "Example:\n",
        "\n",
        "Customer Segmentation – Grouping customers in an e-commerce store based on purchasing behavior (e.g., frequent buyers, seasonal buyers).\n",
        "\n",
        "3. Semi-Supervised Learning\n",
        "\n",
        "Definition: Uses a mix of labeled and unlabeled data. Labeled data helps guide the learning, while unlabeled data helps improve performance.\n",
        "\n",
        "\n",
        "\n",
        "Example:\n",
        "\n",
        "Medical Diagnosis – A few labeled medical images (e.g., with cancer/without cancer) plus many unlabeled images are used to train a model more effectively.\n",
        "\n",
        "4. Reinforcement Learning (RL)\n",
        "\n",
        "Definition: The model learns by interacting with an environment, receiving rewards (positive feedback) or penalties (negative feedback) for actions.\n",
        "\n",
        "\n",
        "\n",
        "Example:\n",
        "\n",
        "Self-Driving Cars – The car learns to navigate traffic by getting rewards for safe driving and penalties for mistakes (e.g., collisions, lane violations)."
      ],
      "metadata": {
        "id": "vsm8CVtAyB3w"
      }
    },
    {
      "cell_type": "markdown",
      "source": [
        "3: Define overfitting, underfitting, and the bias-variance tradeoff in machine\n",
        "learning.\n",
        "ANS-1. Overfitting\n",
        "\n",
        "Definition: When a model learns the training data too well, including noise and random fluctuations, so it performs very well on training data but poorly on new/unseen data.\n",
        "\n",
        "\n",
        "\n",
        "2. Underfitting\n",
        "\n",
        "Definition: When a model is too simple to capture the underlying patterns in the data, leading to poor performance on both training and test data.\n",
        "\n",
        "\n",
        "\n",
        "3. Bias-Variance Tradeoff\n",
        "\n",
        "Bias: Error due to simplifying assumptions in the model (e.g., linear model for nonlinear data). → Leads to underfitting.\n",
        "\n",
        "Variance: Error due to model’s sensitivity to small fluctuations in the training data. → Leads to overfitting.\n",
        "\n",
        "Tradeoff:\n",
        "\n",
        "Low bias → model is flexible, captures complex patterns (but risks high variance).\n",
        "\n",
        "Low variance → model is stable, but may oversimplify (risking high bias).\n",
        "\n"
      ],
      "metadata": {
        "id": "prkMFGauyizh"
      }
    },
    {
      "cell_type": "markdown",
      "source": [
        " 4: What are outliers in a dataset, and list three common techniques for\n",
        "handling them.\n",
        "ANS-Outliers in a Dataset\n",
        "\n",
        "Definition: Outliers are data points that differ significantly from most of the other observations in a dataset.\n",
        "\n",
        "They can occur due to errors (measurement, data entry) or represent true rare events.\n",
        "\n",
        "Impact: Outliers can skew results, affect model accuracy, and mislead statistical conclusions.\n",
        "\n",
        "Three Common Techniques for Handling Outliers\n",
        "1. Removal (Deletion)\n",
        "\n",
        "If an outlier is clearly due to data entry or measurement error, simply remove it.\n",
        "\n",
        "Example: If a dataset of human height has a value of 500 cm, it’s invalid and should be removed.\n",
        "\n",
        "2. Transformation (Scaling/Log)\n",
        "\n",
        "Apply mathematical transformations to reduce the effect of extreme values.\n",
        "\n",
        "Techniques: Log transformation, Box-Cox transformation, standardization.\n",
        "\n",
        "Example: Taking log of income data, where a few very high salaries distort the distribution.\n",
        "\n",
        "3. Imputation / Capping (Winsorization)\n",
        "\n",
        "Replace outliers with a threshold value (e.g., replace values above the 95th percentile with the 95th percentile value).\n",
        "\n",
        "Keeps dataset size intact while limiting extreme impact.\n",
        "\n",
        "Example: In credit card spending data, replacing extremely high transactions with a capped limit."
      ],
      "metadata": {
        "id": "6S41w0q2zHsC"
      }
    },
    {
      "cell_type": "markdown",
      "source": [
        " 5: Explain the process of handling missing values and mention one\n",
        "imputation technique for numerical and one for categorical data.\n",
        "ANS-Process of Handling Missing Values\n",
        "\n",
        "Identify Missing Data\n",
        "\n",
        "Check how much data is missing (few values or large portions?).\n",
        "\n",
        "Tools: isnull(), sum() in pandas.\n",
        "\n",
        "Understand the Pattern\n",
        "\n",
        "Missing Completely at Random (MCAR): No pattern, safe to impute.\n",
        "\n",
        "Missing at Random (MAR): Related to other variables.\n",
        "\n",
        "Missing Not at Random (MNAR): Missingness depends on the value itself (harder to handle).\n",
        "\n",
        "Choose a Strategy\n",
        "\n",
        "Remove: Drop rows/columns if missingness is small and random.\n",
        "\n",
        "Impute: Fill missing values with estimated values (mean, mode, regression, etc.).\n",
        "\n",
        "Flag: Add a new column marking missing vs. not missing.\n",
        "\n",
        "Imputation Techniques\n",
        "For Numerical Data → Mean/Median Imputation\n",
        "\n",
        "Replace missing values with the mean (for symmetric data) or median (for skewed data).\n",
        "\n",
        "Example: Missing ages in a dataset can be filled with the median age.\n",
        "\n",
        "For Categorical Data → Mode Imputation\n",
        "\n",
        "Replace missing values with the most frequent category (mode).\n",
        "\n",
        "Example: If “Gender” has missing values, fill them with the most common category (e.g., “Female”)."
      ],
      "metadata": {
        "id": "wffwc2Yzzb61"
      }
    },
    {
      "cell_type": "markdown",
      "source": [
        "n 6: Write a Python program that:\n",
        "● Creates a synthetic imbalanced dataset with make_classification() from\n",
        "sklearn.datasets.\n",
        "● Prints the class distribution.\n"
      ],
      "metadata": {
        "id": "TC66ESCO05w9"
      }
    },
    {
      "cell_type": "code",
      "source": [
        "from sklearn.datasets import make_classification\n",
        "from collections import Counter\n",
        "import pandas as pd\n",
        "\n",
        "# 1. Create synthetic imbalanced dataset\n",
        "X, y = make_classification(n_samples=1000,     # total samples\n",
        "                           n_features=10,      # number of features\n",
        "                           n_informative=2,    # useful features\n",
        "                           n_redundant=2,      # redundant features\n",
        "                           n_classes=2,        # binary classification\n",
        "                           weights=[0.9, 0.1], # imbalance ratio (90%-10%)\n",
        "                           random_state=42)\n",
        "\n",
        "# 2. Print class distribution\n",
        "class_counts = Counter(y)\n",
        "print(\"Class Distribution:\", class_counts)\n",
        "\n",
        "# Optional: Show as DataFrame for clarity\n",
        "df = pd.DataFrame.from_dict(class_counts, orient='index', columns=['Count'])\n",
        "print(\"\\nClass Distribution Table:\\n\", df)\n"
      ],
      "metadata": {
        "colab": {
          "base_uri": "https://localhost:8080/"
        },
        "id": "pUOCVIHl1KNA",
        "outputId": "77372b08-3be3-4899-d1b5-7cb9bd3be417"
      },
      "execution_count": 1,
      "outputs": [
        {
          "output_type": "stream",
          "name": "stdout",
          "text": [
            "Class Distribution: Counter({np.int64(0): 897, np.int64(1): 103})\n",
            "\n",
            "Class Distribution Table:\n",
            "    Count\n",
            "0    897\n",
            "1    103\n"
          ]
        }
      ]
    },
    {
      "cell_type": "markdown",
      "source": [
        " 7: Implement one-hot encoding using pandas for the following list of colors:\n",
        "['Red', 'Green', 'Blue', 'Green', 'Red']. Print the resulting dataframe."
      ],
      "metadata": {
        "id": "APg1x_H11lJI"
      }
    },
    {
      "cell_type": "code",
      "source": [
        "import pandas as pd\n",
        "\n",
        "# Original list of colors\n",
        "colors = ['Red', 'Green', 'Blue', 'Green', 'Red']\n",
        "\n",
        "# Create a DataFrame\n",
        "df = pd.DataFrame({'Color': colors})\n",
        "\n",
        "# Apply one-hot encoding\n",
        "one_hot = pd.get_dummies(df['Color'])\n",
        "\n",
        "# Print result\n",
        "print(\"Original DataFrame:\\n\", df)\n",
        "print(\"\\nOne-Hot Encoded DataFrame:\\n\", one_hot)\n"
      ],
      "metadata": {
        "colab": {
          "base_uri": "https://localhost:8080/"
        },
        "id": "xqx6vMEB1v4g",
        "outputId": "ffca82d0-a1bb-4659-a0b8-2068758c39ac"
      },
      "execution_count": 2,
      "outputs": [
        {
          "output_type": "stream",
          "name": "stdout",
          "text": [
            "Original DataFrame:\n",
            "    Color\n",
            "0    Red\n",
            "1  Green\n",
            "2   Blue\n",
            "3  Green\n",
            "4    Red\n",
            "\n",
            "One-Hot Encoded DataFrame:\n",
            "     Blue  Green    Red\n",
            "0  False  False   True\n",
            "1  False   True  False\n",
            "2   True  False  False\n",
            "3  False   True  False\n",
            "4  False  False   True\n"
          ]
        }
      ]
    },
    {
      "cell_type": "markdown",
      "source": [
        " 8: Write a Python script to:\n",
        "● Generate 1000 samples from a normal distribution.\n",
        "● Introduce 50 random missing values.\n",
        "● Fill missing values with the column mean.\n",
        "● Plot a histogram before and after imputation."
      ],
      "metadata": {
        "id": "0vsmxbOP1-RT"
      }
    },
    {
      "cell_type": "code",
      "source": [
        "import numpy as np\n",
        "import pandas as pd\n",
        "import matplotlib.pyplot as plt\n",
        "\n",
        "# 1. Generate 1000 samples from a normal distribution\n",
        "np.random.seed(42)  # for reproducibility\n",
        "data = np.random.normal(loc=0, scale=1, size=1000)  # mean=0, std=1\n",
        "\n",
        "# Convert to DataFrame\n",
        "df = pd.DataFrame(data, columns=['Values'])\n",
        "\n",
        "# 2. Introduce 50 random missing values\n",
        "missing_indices = np.random.choice(df.index, size=50, replace=False)\n",
        "df.loc[missing_indices, 'Values'] = np.nan\n",
        "\n",
        "# Save a copy for plotting before imputation\n",
        "df_before = df.copy()\n",
        "\n",
        "# 3. Fill missing values with the column mean\n",
        "mean_value = df['Values'].mean()\n",
        "df['Values'].fillna(mean_value, inplace=True)\n",
        "\n",
        "# 4. Plot histogram before and after imputation\n",
        "plt.figure(figsize=(10, 5))\n",
        "\n",
        "# Histogram before imputation\n",
        "plt.subplot(1, 2, 1)\n",
        "plt.hist(df_before['Values'].dropna(), bins=30, edgecolor='black')\n",
        "plt.title(\"Before Imputation\")\n",
        "plt.xlabel(\"Value\")\n",
        "plt.ylabel(\"Frequency\")\n",
        "\n",
        "# Histogram after imputation\n",
        "plt.subplot(1, 2, 2)\n",
        "plt.hist(df['Values'], bins=30, edgecolor='black')\n",
        "plt.title(\"After Imputation\")\n",
        "plt.xlabel(\"Value\")\n",
        "plt.ylabel(\"Frequency\")\n",
        "\n",
        "plt.tight_layout()\n",
        "plt.show()\n"
      ],
      "metadata": {
        "colab": {
          "base_uri": "https://localhost:8080/",
          "height": 649
        },
        "id": "kRxUBOZR2W9x",
        "outputId": "950d2422-daf6-41dd-d7e7-c4db9365c7fa"
      },
      "execution_count": 3,
      "outputs": [
        {
          "output_type": "stream",
          "name": "stderr",
          "text": [
            "/tmp/ipython-input-2245535463.py:21: FutureWarning: A value is trying to be set on a copy of a DataFrame or Series through chained assignment using an inplace method.\n",
            "The behavior will change in pandas 3.0. This inplace method will never work because the intermediate object on which we are setting values always behaves as a copy.\n",
            "\n",
            "For example, when doing 'df[col].method(value, inplace=True)', try using 'df.method({col: value}, inplace=True)' or df[col] = df[col].method(value) instead, to perform the operation inplace on the original object.\n",
            "\n",
            "\n",
            "  df['Values'].fillna(mean_value, inplace=True)\n"
          ]
        },
        {
          "output_type": "display_data",
          "data": {
            "text/plain": [
              "<Figure size 1000x500 with 2 Axes>"
            ],
            "image/png": "[encoded data removed]"
          },
          "metadata": {}
        }
      ]
    },
    {
      "cell_type": "markdown",
      "source": [
        " 9: Implement Min-Max scaling on the following list of numbers [2, 5, 10, 15,\n",
        "20] using sklearn.preprocessing.MinMaxScaler. Print the scaled array."
      ],
      "metadata": {
        "id": "hSS8e2WU2Z4Z"
      }
    },
    {
      "cell_type": "code",
      "source": [
        "from sklearn.preprocessing import MinMaxScaler\n",
        "import numpy as np\n",
        "\n",
        "# Original data\n",
        "data = np.array([2, 5, 10, 15, 20]).reshape(-1, 1)\n",
        "\n",
        "# Initialize scaler\n",
        "scaler = MinMaxScaler()\n",
        "\n",
        "# Fit and transform\n",
        "scaled_data = scaler.fit_transform(data)\n",
        "\n",
        "# Print results\n",
        "print(\"Original Data:\\n\", data.flatten())\n",
        "print(\"Scaled Data:\\n\", scaled_data.flatten())\n"
      ],
      "metadata": {
        "colab": {
          "base_uri": "https://localhost:8080/"
        },
        "id": "5aX4wkuP2n2u",
        "outputId": "ff3bfeac-95a0-4076-f9e2-d0964c5ab876"
      },
      "execution_count": 4,
      "outputs": [
        {
          "output_type": "stream",
          "name": "stdout",
          "text": [
            "Original Data:\n",
            " [ 2  5 10 15 20]\n",
            "Scaled Data:\n",
            " [0.         0.16666667 0.44444444 0.72222222 1.        ]\n"
          ]
        }
      ]
    },
    {
      "cell_type": "markdown",
      "source": [
        " 10: You are working as a data scientist for a retail company. You receive a customer\n",
        "transaction dataset that contains:\n",
        "● Missing ages,\n",
        "● Outliers in transaction amount,\n",
        "● A highly imbalanced target (fraud vs. non-fraud),\n",
        "● Categorical variables like payment method.\n",
        "Explain the step-by-step data preparation plan you’d follow before training a machine learning\n",
        "model. Include how you’d address missing data, outliers, imbalance, and encoding.\n",
        "ANS-The step-by-step data preparation plan involves handling missing data through imputation, addressing outliers in transaction amounts using detection and treatment methods, managing imbalanced target variables with resampling techniques like oversampling or undersampling, and encoding categorical variables like payment methods using techniques like one-hot encoding or label encoding."
      ],
      "metadata": {
        "id": "ztFAYfih2pzm"
      }
    },
    {
      "cell_type": "code",
      "source": [
        "# illustrative (adapt column names)\n",
        "from sklearn.pipeline import Pipeline\n",
        "from sklearn.compose import ColumnTransformer\n",
        "from sklearn.impute import SimpleImputer\n",
        "from sklearn.preprocessing import OneHotEncoder, FunctionTransformer, RobustScaler\n",
        "from sklearn.ensemble import RandomForestClassifier\n",
        "from imblearn.pipeline import Pipeline as ImbPipeline\n",
        "from imblearn.over_sampling import SMOTENC\n",
        "import numpy as np\n",
        "\n",
        "numeric_feats = ['transaction_amount','age', 'num_prev_txns']\n",
        "cat_low = ['payment_method','country']\n",
        "# Example: one-hot low-cardinality cat, freq-encode high-card elsewhere\n",
        "\n",
        "num_transform = Pipeline([\n",
        "    ('impute', SimpleImputer(strategy='median')),        # numeric imputation\n",
        "    ('log', FunctionTransformer(np.log1p, validate=False)),  # e.g. for amounts\n",
        "    ('scale', RobustScaler())\n",
        "])\n",
        "\n",
        "cat_transform = Pipeline([\n",
        "    ('impute', SimpleImputer(strategy='constant', fill_value='MISSING')),\n",
        "    ('ohe', OneHotEncoder(handle_unknown='ignore'))\n",
        "])\n",
        "\n",
        "preproc = ColumnTransformer([\n",
        "    ('num', num_transform, numeric_feats),\n",
        "    ('cat', cat_transform, cat_low)\n",
        "])\n",
        "\n",
        "# If using SMOTENC (mix of categorical and numeric), provide categorical indices\n",
        "smote = SMOTENC(categorical_features=[], k_neighbors=5)  # example indices\n",
        "\n",
        "pipeline = ImbPipeline(steps=[\n",
        "    ('preproc', preproc),\n",
        "    ('smote', smote),                     # apply only to training data in CV\n",
        "    ('clf', RandomForestClassifier(class_weight='balanced', random_state=42))\n",
        "])"
      ],
      "metadata": {
        "id": "QDmy-qiW5r8x"
      },
      "execution_count": 12,
      "outputs": []
    }
  ]
}